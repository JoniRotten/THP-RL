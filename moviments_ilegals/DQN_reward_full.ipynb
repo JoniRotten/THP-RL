{
 "cells": [
  {
   "cell_type": "code",
   "execution_count": 1,
   "metadata": {},
   "outputs": [],
   "source": [
    "import gym\n",
    "import matplotlib.pyplot as plt\n",
    "import sys\n",
    "import numpy\n",
    "import logging\n",
    "sys.path.append('/home/maradona/neuron_poker/neuron_poker-master')\n",
    "sys.path.append('/home/maradona/neuron_poker/neuron_poker-master/tools')\n",
    "import numpy as np\n",
    "import pandas as pd\n",
    "import torch\n",
    "import time\n",
    "from collections import namedtuple, deque\n",
    "from copy import deepcopy, copy\n",
    "import random"
   ]
  },
  {
   "cell_type": "code",
   "execution_count": 2,
   "metadata": {},
   "outputs": [],
   "source": [
    "#from gym_env.env import HoldemTable, Action, Stage, PlayerCycle, CommunityData, PlayerShell\n",
    "from gym_env.env import HoldemTable, Action\n",
    "from agents.agent_random import Player as RandomPlayer\n",
    "from agents.agent_consider_equity import Player as EquityPlayer\n",
    "from agents.agent_autoplay_random import Player as Random_autoplay_Player\n",
    "from tools.helper import get_config\n",
    "from tools.helper import init_logger\n",
    "from tools.helper import flatten"
   ]
  },
  {
   "cell_type": "code",
   "execution_count": 3,
   "metadata": {},
   "outputs": [],
   "source": [
    "#llença el logging, tant per pantalla com als log files\n",
    "\n",
    "def logging_funct():\n",
    "\n",
    "    print(\"Using default log file\")\n",
    "    logfile = 'default'\n",
    "    model_name = 'test'\n",
    "    screenloglevel = logging.INFO\n",
    "    _ = get_config()\n",
    "    init_logger(screenlevel=screenloglevel, filename=logfile)\n",
    "    print(f\"Screenloglevel: {screenloglevel}\")\n",
    "    log = logging.getLogger(\"\")\n",
    "    log.info(\"Initializing program\")"
   ]
  },
  {
   "cell_type": "code",
   "execution_count": 4,
   "metadata": {},
   "outputs": [],
   "source": [
    "#logging_funct()"
   ]
  },
  {
   "cell_type": "code",
   "execution_count": 5,
   "metadata": {},
   "outputs": [],
   "source": [
    "def _create_env():\n",
    "    \"\"\"Create an environment\"\"\"\n",
    "    env = HoldemTable()\n",
    "    player = RandomPlayer(name='DQN_0')\n",
    "    env.add_player(player)\n",
    "    #player = EquityPlayer(name='EQUITY_1', min_call_equity=.2, min_bet_equity=-.3)\n",
    "    #env.add_player(player)\n",
    "    player = Random_autoplay_Player(name='RANDOM_2')\n",
    "    env.add_player(player)\n",
    "    #player = Random_autoplay_Player(name='RANDOM_3')\n",
    "    #env.add_player(player)\n",
    "    return env"
   ]
  },
  {
   "cell_type": "code",
   "execution_count": 6,
   "metadata": {},
   "outputs": [],
   "source": [
    "env = _create_env()"
   ]
  },
  {
   "cell_type": "code",
   "execution_count": 7,
   "metadata": {},
   "outputs": [],
   "source": [
    "class experienceReplayBuffer:\n",
    "\n",
    "    def __init__(self, memory_size=50000, burn_in=10000):\n",
    "        self.memory_size = memory_size\n",
    "        self.burn_in = burn_in\n",
    "        self.buffer = namedtuple('Buffer', \n",
    "            field_names=['state', 'action', 'reward', 'done', 'next_state'])\n",
    "        self.replay_memory = deque(maxlen=memory_size)\n",
    "\n",
    "    def sample_batch(self, batch_size=32):\n",
    "        samples = np.random.choice(len(self.replay_memory), batch_size, replace=False)\n",
    "        # Use asterisk operator to unpack deque \n",
    "        batch = zip(*[self.replay_memory[i] for i in samples])\n",
    "        return batch\n",
    "\n",
    "    def append(self, state, action, reward, done, next_state):\n",
    "        self.replay_memory.append(\n",
    "            self.buffer(state, action, reward, done, next_state))\n",
    "\n",
    "    def burn_in_capacity(self):\n",
    "        return len(self.replay_memory) / self.burn_in"
   ]
  },
  {
   "cell_type": "code",
   "execution_count": 8,
   "metadata": {},
   "outputs": [],
   "source": [
    "class NeuralNet(torch.nn.Module):  \n",
    "\n",
    "    def __init__(self, env, learning_rate=1e-3):\n",
    "        \n",
    "        \"\"\"\n",
    "        Params\n",
    "        ======\n",
    "        n_inputs: tamaño del espacio de estadps\n",
    "        n_outputs: tamaño del espacio de acciones\n",
    "        actions: array de acciones posibles\n",
    "        \"\"\"\n",
    "        \n",
    "        ######################################\n",
    "        ##Initialitzar paràmetres\n",
    "        super(NeuralNet, self).__init__()\n",
    "        #self.n_inputs = env.observation_space[0]\n",
    "        #valor hardcodeado no es carreguen aquests valors fins que es fa un reset\n",
    "        #self.n_inputs = 225\n",
    "        #self.n_inputs = 174\n",
    "        self.n_inputs = 123\n",
    "        self.n_outputs = env.action_space.n\n",
    "        self.actions = np.arange(env.action_space.n)\n",
    "        self.learning_rate = learning_rate\n",
    "        \n",
    "       \n",
    "    \n",
    "    \n",
    "        #######################################\n",
    "        ##Neural network\n",
    "        self.model = torch.nn.Sequential(\n",
    "            torch.nn.Linear(self.n_inputs, 512, bias=True),\n",
    "            torch.nn.ReLU(),\n",
    "            torch.nn.Linear(512, 256, bias=True),\n",
    "            torch.nn.ReLU(),\n",
    "            torch.nn.Linear(256, 128, bias=True),\n",
    "            torch.nn.ReLU(),\n",
    "            torch.nn.Linear(128, self.n_outputs, bias=True))\n",
    "        \n",
    "        \n",
    "        \n",
    "        \n",
    "        #######################################\n",
    "        ##Inicialitzar optimitzador\n",
    "        self.optimizer = torch.optim.Adam(self.parameters(), lr=self.learning_rate)\n",
    "          \n",
    "\n",
    "            \n",
    "            \n",
    "\n",
    "    ### e-greedy method\n",
    "    def get_action(self, state, epsilon=0.05):\n",
    "        if np.random.random() < epsilon:\n",
    "            #this_player_action_space = {Action.FOLD, Action.CHECK, Action.CALL, Action.RAISE_3BB, \n",
    "             #                           Action.RAISE_POT, Action.RAISE_HALF_POT, Action.RAISE_2POT, \n",
    "              #                          Action.ALL_IN, Action.SMALL_BLIND, Action.BIG_BLIND}\n",
    "            #possible_moves = this_player_action_space.intersection(set(env.legal_moves))\n",
    "            #action = random.choice(list(possible_moves))\n",
    "            action = random.choice(self.actions)\n",
    "        else:\n",
    "            qvals = self.get_qvals(state)  # acció del càlcul de Q per a aquesta acció\n",
    "            action= torch.max(qvals, dim=-1)[1].item()\n",
    "        return action\n",
    "    \n",
    "    \n",
    "    def get_qvals(self, state):\n",
    "        if type(state) is tuple:\n",
    "            state = np.array([np.ravel(s) for s in state])\n",
    "        state_t = torch.FloatTensor(state)\n",
    "        return self.model(state_t)"
   ]
  },
  {
   "cell_type": "code",
   "execution_count": 9,
   "metadata": {},
   "outputs": [],
   "source": [
    "class DQNAgent:\n",
    "    \n",
    "    ###################################################\n",
    "    ###### Declarar variables        ##################\n",
    "    def __init__(self, reward_threshold, env, main_network, buffer, epsilon=0.1, eps_decay=0.99, batch_size=32): \n",
    "        self.env = env\n",
    "        self.main_network = main_network\n",
    "        self.target_network = deepcopy(main_network)\n",
    "        self.buffer = buffer\n",
    "        self.epsilon = epsilon\n",
    "        self.eps_decay = eps_decay\n",
    "        self.batch_size = batch_size\n",
    "        self.nblock = 100 #bloc dels últims X episodis dels que es calcularà mitja de recompenses\n",
    "        self.reward_threshold = reward_threshold\n",
    "        self.initialize()\n",
    "    \n",
    "    \n",
    "    ###############################################################\n",
    "    ##### Inicialitzar variables extra que es necessitin###########\n",
    "    def initialize(self):\n",
    "        self.update_loss = []\n",
    "        self.training_rewards = []\n",
    "        self.mean_training_rewards = []\n",
    "        self.sync_eps = []\n",
    "        self.total_reward = 0\n",
    "        self.step_count = 0\n",
    "        self.state0 = self.env.reset()\n",
    "        self.last_position = []\n",
    "        self.epsilons = []\n",
    "        self.training_loss = []\n",
    "        self.ilegales = []\n",
    "               \n",
    "        \n",
    "        \n",
    "        \n",
    "    #################################################################################\n",
    "    ###### Prendre nova acció ###############################################\n",
    "    def take_step(self, eps, mode='train'):\n",
    "        if mode == 'explore':\n",
    "            #this_player_action_space = {Action.FOLD, Action.CHECK, Action.CALL, Action.RAISE_3BB, \n",
    "                 #                       Action.RAISE_POT, Action.RAISE_HALF_POT, Action.RAISE_2POT, \n",
    "                  #                      Action.ALL_IN}\n",
    "            #possible_moves = this_player_action_space.intersection(set(env.legal_moves))\n",
    "            #action = random.choice(list(possible_moves))\n",
    "            action = random.choice(self.main_network.actions)\n",
    "        else:\n",
    "            action = self.main_network.get_action(self.state0, eps)\n",
    "            self.step_count += 1\n",
    "            \n",
    "        #prendre 'step' i obtenir nou estat i recompensa. Guardar experiència al buffer\n",
    "        new_state, reward, done, _ = self.env.step(action)\n",
    "        self.buffer.append(self.state0, action, reward, done, new_state)\n",
    "        self.state0 = new_state.copy()\n",
    "               \n",
    "        if done:\n",
    "            if mode == 'train':\n",
    "                self.last_position.append(new_state[0])\n",
    "            self.state0 = env.reset()\n",
    "        return new_state, reward, done, _ \n",
    "        \n",
    "        \n",
    "\n",
    "    \n",
    "        \n",
    "    ##ENTRENAMENT\n",
    "    def train(self, gamma=0.99, max_episodes=50000, \n",
    "              batch_size=32,\n",
    "              dnn_update_frequency=4,\n",
    "              dnn_sync_frequency=2000):\n",
    "        self.gamma = gamma\n",
    "        # Omplim el buffer amb N experiències aleatòries ()\n",
    "        print(\"Filling replay buffer...\")\n",
    "        while self.buffer.burn_in_capacity() < 1:\n",
    "            self.take_step(self.epsilon, mode='explore')\n",
    "            \n",
    "            \n",
    "        episode = 0\n",
    "        training = True\n",
    "        print(\"Training...\")\n",
    "        while training:\n",
    "            self.state0 = self.env.reset()\n",
    "            self.total_reward = 0\n",
    "            gamedone = False\n",
    "            env.ilegal = 0\n",
    "            while gamedone == False:\n",
    "                #Agents autoplay de l'entorn\n",
    "                if env._agent_is_autoplay(): #mirar un while per optimitzar-ho\n",
    "                    #print(env.current_player.name)\n",
    "                    action = env.current_player.agent_obj.action(env.legal_moves, env.observation, env.info)\n",
    "                    new_state, reward, gamedone, info = env.step(action)\n",
    "                    #print('longitud',len(env.funds_history))\n",
    "                    #print(env.funds_history)\n",
    "                    #if not gamedone:\n",
    "                    reward = -reward\n",
    "                #Agent\n",
    "                else:\n",
    "                    #print(env.current_player.name)\n",
    "                    new_state, reward, gamedone, info = self.take_step(self.epsilon, mode='train')\n",
    "                    #print('longitud',len(env.funds_history))\n",
    "                    #print(env.funds_history)\n",
    "                \n",
    "                self.total_reward += reward\n",
    "                #print('************************', reward, self.total_reward)\n",
    "                \n",
    "                \n",
    "                #################################################################################\n",
    "                ##### Actualitzar la xarxa principal segons la freqüència establerta ############\n",
    "                if self.step_count % dnn_update_frequency == 0:\n",
    "                    self.update()\n",
    "                \n",
    "                \n",
    "                \n",
    "                    \n",
    "                ########################################################################################\n",
    "                ### Sincronitzar xarxa principal y xarxa objectiu segons la freqüència establerta#####\n",
    "\n",
    "                if self.step_count % dnn_sync_frequency == 0:\n",
    "                    self.target_network.load_state_dict(\n",
    "                        self.main_network.state_dict())\n",
    "                    self.sync_eps.append(episode)\n",
    "                \n",
    "                                \n",
    "                if gamedone:  \n",
    "                    #print('DONE')\n",
    "                    episode += 1\n",
    "                    self.training_rewards.append(self.total_reward)\n",
    "                    self.training_loss.append(np.mean(self.update_loss))\n",
    "                    self.update_loss = []   \n",
    "                    self.ilegales.append(env.ilegal)\n",
    "                \n",
    "                    \n",
    "                    #######################################################################################\n",
    "                    ### Calcular la mitjana de recompensa dels últims X episodis, y almacenar#####\n",
    "                    \n",
    "                    mean_rewards = np.mean(self.training_rewards[-self.nblock:])\n",
    "                    self.mean_training_rewards.append(mean_rewards)                   \n",
    "\n",
    "                    print(\"\\rEpisode {:d} Mean Rewards {:.2f} Epsilon {} Illegal movements {:d}\\t\\t\".format(\n",
    "                        episode, mean_rewards, self.epsilon, env.ilegal), end=\"\")\n",
    "                    \n",
    "                    #######################################################################################\n",
    "                    ### Comprobar que encara queden episodis, i/o parar si s'ha arribat al límit\n",
    "\n",
    "                    if episode >= max_episodes:\n",
    "                        training = False\n",
    "                        print('\\nEpisode limit reached.')\n",
    "                        break\n",
    "                        \n",
    "                    \n",
    "                    # Acaba el joc si la mitjana de recompenses ha arribat al llindar fixat per l'entorn     \n",
    "                    if mean_rewards >= self.reward_threshold:\n",
    "                        training = False\n",
    "                        print('\\nEnvironment solved in {} episodes!'.format(\n",
    "                            episode))\n",
    "                        break\n",
    "                    \n",
    "                    #################################################################################\n",
    "                    ###### Actualitzar epsilon segons la velocitat de decaïment fixada########\n",
    "\n",
    "                    self.epsilon = max(self.epsilon * self.eps_decay, 0.01)\n",
    "                    self.epsilons.append(self.epsilon)\n",
    "                                      \n",
    "   \n",
    "\n",
    "    ####################################          \n",
    "    #####Càlcul de la pèrdua####\n",
    "    def calculate_loss(self, batch):\n",
    "        # Separem les variables de l'experiència i les convertim a tensors\n",
    "        states, actions, rewards, dones, next_states = [i for i in batch] \n",
    "        rewards_vals = torch.FloatTensor(rewards)\n",
    "        actions_vals = torch.LongTensor(np.array(actions)).reshape(-1,1)\n",
    "        dones_t = torch.ByteTensor(dones)\n",
    "        \n",
    "        # Obtenim els valors de Q de la xarxa principal\n",
    "        qvals = torch.gather(self.main_network.get_qvals(states), 1, actions_vals)\n",
    "        # Obtenim els valors de Q de la xarxa objectiu. El paràmetre detach() \n",
    "        #evita que aquests valors actualitzin la xarxa objectiu\n",
    "        qvals_next = torch.max(self.target_network.get_qvals(next_states),\n",
    "                               dim=-1)[0].detach()\n",
    "        qvals_next[dones_t] = 0 # 0 en estados terminales\n",
    "        \n",
    "        #################################################################################\n",
    "        ### Calcular equació de Bellman\n",
    "        expected_qvals = self.gamma * qvals_next + rewards_vals\n",
    "        \n",
    "        #################################################################################\n",
    "        ### Càlcul de la pèrdua\n",
    "        #loss = torch.nn.MSELoss()(qvals, expected_qvals.reshape(-1,1))\n",
    "        loss = torch.nn.MSELoss()(qvals, expected_qvals)\n",
    "        return loss\n",
    "\n",
    "    \n",
    "    def update(self):\n",
    "        self.main_network.optimizer.zero_grad()  # eliminem qualsevol gradient passat\n",
    "        batch = self.buffer.sample_batch(batch_size=self.batch_size) # seleccionem un conjunt del buffer\n",
    "        loss = self.calculate_loss(batch) # calculem la pèrdua\n",
    "        loss.backward() # fem la diferència per obtenir els gradients\n",
    "        self.main_network.optimizer.step() # apliquem els gradients a la xarxa neuronal\n",
    "        # Guardem els valors de pèrdua\n",
    "        self.update_loss.append(loss.detach().numpy())"
   ]
  },
  {
   "cell_type": "code",
   "execution_count": 10,
   "metadata": {},
   "outputs": [],
   "source": [
    "lr = 0.001\n",
    "BATCH_SIZE = 32\n",
    "MAX_EPISODES = 9000\n",
    "BURN_IN = 1000\n",
    "DNN_UPD = 3\n",
    "DNN_SYNC = 1000\n",
    "MEMORY_SIZE = 100000\n",
    "EPSILON = 1           \n",
    "EPSILON_DECAY = 0.99   \n",
    "GAMMA = 0.99   \n",
    "REWARD_THRESHOLD = 1000000"
   ]
  },
  {
   "cell_type": "code",
   "execution_count": 11,
   "metadata": {},
   "outputs": [],
   "source": [
    "buffer = experienceReplayBuffer(memory_size=MEMORY_SIZE, burn_in=BURN_IN)"
   ]
  },
  {
   "cell_type": "code",
   "execution_count": 12,
   "metadata": {},
   "outputs": [],
   "source": [
    "dqn = NeuralNet(env, learning_rate=lr)"
   ]
  },
  {
   "cell_type": "code",
   "execution_count": 13,
   "metadata": {},
   "outputs": [],
   "source": [
    "agentDQN = DQNAgent(REWARD_THRESHOLD, env, dqn, buffer, EPSILON, EPSILON_DECAY, BATCH_SIZE)"
   ]
  },
  {
   "cell_type": "code",
   "execution_count": 14,
   "metadata": {},
   "outputs": [],
   "source": [
    "start = time.time()"
   ]
  },
  {
   "cell_type": "code",
   "execution_count": 15,
   "metadata": {},
   "outputs": [
    {
     "name": "stdout",
     "output_type": "stream",
     "text": [
      "Filling replay buffer...\n",
      "Training...\n"
     ]
    },
    {
     "name": "stderr",
     "output_type": "stream",
     "text": [
      "/home/maradona/anaconda3/lib/python3.7/site-packages/ipykernel_launcher.py:180: UserWarning: masked_fill_ received a mask with dtype torch.uint8, this behavior is now deprecated,please use a mask with dtype torch.bool instead. (Triggered internally at  /opt/conda/conda-bld/pytorch_1634272126608/work/aten/src/ATen/native/TensorAdvancedIndexing.cpp:1273.)\n",
      "/home/maradona/anaconda3/lib/python3.7/site-packages/torch/nn/modules/loss.py:520: UserWarning: Using a target size (torch.Size([32])) that is different to the input size (torch.Size([32, 1])). This will likely lead to incorrect results due to broadcasting. Please ensure they have the same size.\n",
      "  return F.mse_loss(input, target, reduction=self.reduction)\n"
     ]
    },
    {
     "name": "stdout",
     "output_type": "stream",
     "text": [
      "Episode 9 Mean Rewards -84.89 Epsilon 0.92274469442792 Illegal movements 3\t\t\t\t\t"
     ]
    },
    {
     "name": "stderr",
     "output_type": "stream",
     "text": [
      "/home/maradona/anaconda3/lib/python3.7/site-packages/numpy/core/fromnumeric.py:3441: RuntimeWarning: Mean of empty slice.\n",
      "  out=out, **kwargs)\n",
      "/home/maradona/anaconda3/lib/python3.7/site-packages/numpy/core/_methods.py:189: RuntimeWarning: invalid value encountered in double_scalars\n",
      "  ret = ret.dtype.type(ret / rcount)\n"
     ]
    },
    {
     "name": "stdout",
     "output_type": "stream",
     "text": [
      "Episode 9000 Mean Rewards -115.82 Epsilon 0.01 Illegal movements 0\t\t\t\t\tements 111\t\t\t\t\n",
      "Episode limit reached.\n"
     ]
    }
   ],
   "source": [
    "agentDQN.train(gamma=GAMMA, max_episodes=MAX_EPISODES, \n",
    "               batch_size=BATCH_SIZE, dnn_update_frequency=DNN_UPD, dnn_sync_frequency=DNN_SYNC)"
   ]
  },
  {
   "cell_type": "code",
   "execution_count": 16,
   "metadata": {},
   "outputs": [],
   "source": [
    "file = \"/home/maradona/Desktop/data_science/TFM/3/DQNAgent_Trained_Model_4.pth\"\n",
    "torch.save(agentDQN.main_network.state_dict(), file)"
   ]
  },
  {
   "cell_type": "code",
   "execution_count": 17,
   "metadata": {},
   "outputs": [
    {
     "name": "stdout",
     "output_type": "stream",
     "text": [
      "85805.44613456726\n"
     ]
    }
   ],
   "source": [
    "end = time.time()\n",
    "print((end - start) / 60*60)"
   ]
  },
  {
   "cell_type": "code",
   "execution_count": 18,
   "metadata": {},
   "outputs": [
    {
     "data": {
      "image/png": "[encoded data removed]",
      "text/plain": [
       "<Figure size 576x288 with 1 Axes>"
      ]
     },
     "metadata": {
      "needs_background": "light"
     },
     "output_type": "display_data"
    }
   ],
   "source": [
    "plt.figure(figsize=(8,4))\n",
    "plt.plot(agentDQN.training_rewards, label='training rewards')\n",
    "plt.plot(agentDQN.mean_training_rewards, label='mean training rewards')\n",
    "#plt.axhline(env.spec.reward_threshold, color='r', label=\"reward threshold\")\n",
    "plt.xlabel('Episodes')\n",
    "plt.ylabel('Rewards')\n",
    "plt.legend(loc=\"upper left\")\n",
    "plt.show()"
   ]
  },
  {
   "cell_type": "code",
   "execution_count": 19,
   "metadata": {},
   "outputs": [
    {
     "data": {
      "image/png": "[encoded data removed]",
      "text/plain": [
       "<Figure size 576x288 with 1 Axes>"
      ]
     },
     "metadata": {
      "needs_background": "light"
     },
     "output_type": "display_data"
    }
   ],
   "source": [
    "plt.figure(figsize=(8,4))\n",
    "plt.plot(agentDQN.training_loss, label='Loss')\n",
    "plt.xlabel('Episodes')\n",
    "plt.ylabel('Loss')\n",
    "plt.legend(loc=\"upper left\")\n",
    "plt.show()"
   ]
  },
  {
   "cell_type": "code",
   "execution_count": 20,
   "metadata": {},
   "outputs": [
    {
     "data": {
      "image/png": "[encoded data removed]",
      "text/plain": [
       "<Figure size 576x288 with 1 Axes>"
      ]
     },
     "metadata": {
      "needs_background": "light"
     },
     "output_type": "display_data"
    }
   ],
   "source": [
    "plt.figure(figsize=(8,4))\n",
    "plt.plot(agentDQN.epsilons, label='epsilon')\n",
    "plt.xlabel('Episodes')\n",
    "plt.ylabel('epsilon')\n",
    "plt.legend(loc=\"upper left\")\n",
    "plt.show()"
   ]
  },
  {
   "cell_type": "code",
   "execution_count": 21,
   "metadata": {},
   "outputs": [
    {
     "data": {
      "image/png": "[encoded data removed]",
      "text/plain": [
       "<Figure size 576x288 with 1 Axes>"
      ]
     },
     "metadata": {
      "needs_background": "light"
     },
     "output_type": "display_data"
    }
   ],
   "source": [
    "one = agentDQN.epsilons.index(0.01)\n",
    "plt.figure(figsize=(8,4))\n",
    "plt.plot(agentDQN.ilegales, label='Moviments Il-legals')\n",
    "plt.xlabel('Episodes')\n",
    "plt.ylabel('Moviments Il-legals')\n",
    "plt.legend(loc=\"upper left\")\n",
    "plt.axvline(x = one, color = 'g') \n",
    "plt.show()"
   ]
  },
  {
   "cell_type": "code",
   "execution_count": 22,
   "metadata": {},
   "outputs": [
    {
     "data": {
      "text/plain": [
       "<All keys matched successfully>"
      ]
     },
     "execution_count": 22,
     "metadata": {},
     "output_type": "execute_result"
    }
   ],
   "source": [
    "agentDQN.main_network.load_state_dict(torch.load\n",
    "                                      ('/home/maradona/Desktop/data_science/TFM/3/DQNAgent_Trained_Model_4.pth'))"
   ]
  },
  {
   "cell_type": "code",
   "execution_count": 23,
   "metadata": {},
   "outputs": [
    {
     "name": "stdout",
     "output_type": "stream",
     "text": [
      "Episode 0\tAverage Score: 202.00 \tFinished in 69 timesteps \tStack 200\n",
      " Episode 1\tAverage Score: 253.00 \tFinished in 74 timesteps \tStack 200\n",
      " Episode 2\tAverage Score: 246.00 \tFinished in 127 timesteps \tStack 200\n",
      " Episode 3\tAverage Score: 232.00 \tFinished in 58 timesteps \tStack 200\n",
      " Episode 4\tAverage Score: 189.00 \tFinished in 114 timesteps \tStack 200\n",
      " Episode 5\tAverage Score: 259.00 \tFinished in 115 timesteps \tStack 200\n",
      " Episode 6\tAverage Score: 221.00 \tFinished in 46 timesteps \tStack 200\n",
      " Episode 7\tAverage Score: 222.00 \tFinished in 63 timesteps \tStack 200\n",
      " Episode 8\tAverage Score: 236.00 \tFinished in 45 timesteps \tStack 200\n",
      " Episode 9\tAverage Score: 231.00 \tFinished in 67 timesteps \tStack 200\n",
      " Episode 10\tAverage Score: 212.00 \tFinished in 28 timesteps \tStack 200\n",
      " Episode 11\tAverage Score: 178.00 \tFinished in 105 timesteps \tStack 200\n",
      " Episode 12\tAverage Score: 220.00 \tFinished in 62 timesteps \tStack 200\n",
      " Episode 13\tAverage Score: 212.00 \tFinished in 48 timesteps \tStack 200\n",
      " Episode 14\tAverage Score: 219.00 \tFinished in 52 timesteps \tStack 200\n",
      " Episode 15\tAverage Score: 261.00 \tFinished in 82 timesteps \tStack 200\n",
      " Episode 16\tAverage Score: 238.00 \tFinished in 102 timesteps \tStack 200\n",
      " Episode 17\tAverage Score: 290.00 \tFinished in 154 timesteps \tStack 200\n",
      " Episode 18\tAverage Score: 184.00 \tFinished in 100 timesteps \tStack 200\n",
      " Episode 19\tAverage Score: 214.00 \tFinished in 108 timesteps \tStack 200\n",
      " Episode 20\tAverage Score: 216.00 \tFinished in 33 timesteps \tStack 200\n",
      " Episode 21\tAverage Score: 257.00 \tFinished in 129 timesteps \tStack 200\n",
      " Episode 22\tAverage Score: 237.00 \tFinished in 77 timesteps \tStack 200\n",
      " Episode 23\tAverage Score: 238.00 \tFinished in 61 timesteps \tStack 200\n",
      " Episode 24\tAverage Score: 222.00 \tFinished in 67 timesteps \tStack 200\n",
      " Episode 25\tAverage Score: 235.00 \tFinished in 214 timesteps \tStack 200\n",
      " Episode 26\tAverage Score: -179.00 \tFinished in 60 timesteps \tStack 0\n",
      " Episode 27\tAverage Score: 223.00 \tFinished in 76 timesteps \tStack 200\n",
      " Episode 28\tAverage Score: 198.00 \tFinished in 43 timesteps \tStack 200\n",
      " Episode 29\tAverage Score: 207.00 \tFinished in 81 timesteps \tStack 200\n",
      " Episode 30\tAverage Score: 207.00 \tFinished in 66 timesteps \tStack 200\n",
      " Episode 31\tAverage Score: 171.00 \tFinished in 103 timesteps \tStack 200\n",
      " Episode 32\tAverage Score: 229.00 \tFinished in 47 timesteps \tStack 200\n",
      " Episode 33\tAverage Score: 281.00 \tFinished in 127 timesteps \tStack 200\n",
      " Episode 34\tAverage Score: 214.00 \tFinished in 28 timesteps \tStack 200\n",
      " Episode 35\tAverage Score: 217.00 \tFinished in 61 timesteps \tStack 200\n",
      " Episode 36\tAverage Score: 216.00 \tFinished in 42 timesteps \tStack 200\n",
      " Episode 37\tAverage Score: 249.00 \tFinished in 107 timesteps \tStack 200\n",
      " Episode 38\tAverage Score: 212.00 \tFinished in 111 timesteps \tStack 200\n",
      " Episode 39\tAverage Score: 182.00 \tFinished in 55 timesteps \tStack 200\n",
      " Episode 40\tAverage Score: 217.00 \tFinished in 154 timesteps \tStack 200\n",
      " Episode 41\tAverage Score: 238.00 \tFinished in 50 timesteps \tStack 200\n",
      " Episode 42\tAverage Score: 202.00 \tFinished in 97 timesteps \tStack 200\n",
      " Episode 43\tAverage Score: 212.00 \tFinished in 49 timesteps \tStack 200\n",
      " Episode 44\tAverage Score: 304.00 \tFinished in 43 timesteps \tStack 200\n",
      " Episode 45\tAverage Score: 212.00 \tFinished in 77 timesteps \tStack 200\n",
      " Episode 46\tAverage Score: 198.00 \tFinished in 47 timesteps \tStack 200\n",
      " Episode 47\tAverage Score: 244.00 \tFinished in 57 timesteps \tStack 200\n",
      " Episode 48\tAverage Score: 224.00 \tFinished in 64 timesteps \tStack 200\n",
      " Episode 49\tAverage Score: 214.00 \tFinished in 96 timesteps \tStack 200\n",
      " Episode 50\tAverage Score: 212.00 \tFinished in 49 timesteps \tStack 200\n",
      " Episode 51\tAverage Score: -187.00 \tFinished in 93 timesteps \tStack 0\n",
      " Episode 52\tAverage Score: 227.00 \tFinished in 133 timesteps \tStack 200\n",
      " Episode 53\tAverage Score: 275.00 \tFinished in 137 timesteps \tStack 200\n",
      " Episode 54\tAverage Score: 227.00 \tFinished in 62 timesteps \tStack 200\n",
      " Episode 55\tAverage Score: -200.00 \tFinished in 24 timesteps \tStack 0\n",
      " Episode 56\tAverage Score: 266.00 \tFinished in 157 timesteps \tStack 200\n",
      " Episode 57\tAverage Score: 339.00 \tFinished in 147 timesteps \tStack 200\n",
      " Episode 58\tAverage Score: -214.00 \tFinished in 51 timesteps \tStack 0\n",
      " Episode 59\tAverage Score: -138.00 \tFinished in 108 timesteps \tStack 0\n",
      " Episode 60\tAverage Score: -187.00 \tFinished in 81 timesteps \tStack 0\n",
      " Episode 61\tAverage Score: 249.00 \tFinished in 101 timesteps \tStack 200\n",
      " Episode 62\tAverage Score: 214.00 \tFinished in 108 timesteps \tStack 200\n",
      " Episode 63\tAverage Score: 200.00 \tFinished in 64 timesteps \tStack 200\n",
      " Episode 64\tAverage Score: 209.00 \tFinished in 46 timesteps \tStack 200\n",
      " Episode 65\tAverage Score: 212.00 \tFinished in 98 timesteps \tStack 200\n",
      " Episode 66\tAverage Score: 230.00 \tFinished in 67 timesteps \tStack 200\n",
      " Episode 67\tAverage Score: 214.00 \tFinished in 102 timesteps \tStack 200\n",
      " Episode 68\tAverage Score: 200.00 \tFinished in 43 timesteps \tStack 200\n",
      " Episode 69\tAverage Score: 218.00 \tFinished in 83 timesteps \tStack 200\n",
      " Episode 70\tAverage Score: 220.00 \tFinished in 65 timesteps \tStack 200\n",
      " Episode 71\tAverage Score: 232.00 \tFinished in 115 timesteps \tStack 200\n",
      " Episode 72\tAverage Score: 200.00 \tFinished in 135 timesteps \tStack 200\n",
      " Episode 73\tAverage Score: 223.00 \tFinished in 21 timesteps \tStack 200\n",
      " Episode 74\tAverage Score: 318.00 \tFinished in 152 timesteps \tStack 200\n",
      " Episode 75\tAverage Score: 200.00 \tFinished in 28 timesteps \tStack 200\n",
      " Episode 76\tAverage Score: 178.00 \tFinished in 126 timesteps \tStack 200\n",
      " Episode 77\tAverage Score: 181.00 \tFinished in 78 timesteps \tStack 200\n",
      " Episode 78\tAverage Score: 228.00 \tFinished in 38 timesteps \tStack 200\n",
      " Episode 79\tAverage Score: 218.00 \tFinished in 61 timesteps \tStack 200\n",
      " Episode 80\tAverage Score: 326.00 \tFinished in 386 timesteps \tStack 200\n",
      " Episode 81\tAverage Score: 206.00 \tFinished in 81 timesteps \tStack 200\n",
      " Episode 82\tAverage Score: 252.00 \tFinished in 83 timesteps \tStack 200\n",
      " Episode 83\tAverage Score: -195.00 \tFinished in 82 timesteps \tStack 0\n",
      " Episode 84\tAverage Score: 226.00 \tFinished in 90 timesteps \tStack 200\n",
      " Episode 85\tAverage Score: 225.00 \tFinished in 85 timesteps \tStack 200\n",
      " Episode 86\tAverage Score: 247.00 \tFinished in 105 timesteps \tStack 200\n",
      " Episode 87\tAverage Score: 200.00 \tFinished in 5 timesteps \tStack 200\n",
      " Episode 88\tAverage Score: 220.00 \tFinished in 68 timesteps \tStack 200\n",
      " Episode 89\tAverage Score: 212.00 \tFinished in 51 timesteps \tStack 200\n",
      " Episode 90\tAverage Score: 239.00 \tFinished in 63 timesteps \tStack 200\n",
      " Episode 91\tAverage Score: 235.00 \tFinished in 85 timesteps \tStack 200\n",
      " Episode 92\tAverage Score: 320.00 \tFinished in 198 timesteps \tStack 200\n",
      " Episode 93\tAverage Score: 258.00 \tFinished in 207 timesteps \tStack 200\n",
      " Episode 94\tAverage Score: 204.00 \tFinished in 86 timesteps \tStack 200\n",
      " Episode 95\tAverage Score: 204.00 \tFinished in 72 timesteps \tStack 200\n",
      " Episode 96\tAverage Score: 238.00 \tFinished in 97 timesteps \tStack 200\n",
      " Episode 97\tAverage Score: 266.00 \tFinished in 102 timesteps \tStack 200\n",
      " Episode 98\tAverage Score: 212.00 \tFinished in 42 timesteps \tStack 200\n",
      " Episode 99\tAverage Score: 206.00 \tFinished in 95 timesteps \tStack 200\n",
      " \n",
      "\n",
      " % partides guanyades:  93\n",
      "\n",
      "\n",
      " mitja de recompenses:  198.81\n"
     ]
    }
   ],
   "source": [
    "rewards = []\n",
    "winner = []\n",
    "for episode in range(100):\n",
    "    observation = env.reset()\n",
    "    total_reward = 0\n",
    "    t = 0\n",
    "    while True:\n",
    "        action = agentDQN.main_network.get_action(observation)\n",
    "        observation, reward, done, info = env.step(action)\n",
    "        total_reward += reward\n",
    "        t += 1\n",
    "        if done:\n",
    "            rewards.append(total_reward)\n",
    "            for i in range(len(env.players)):\n",
    "                if env.players[i].name == 'DQN_0':\n",
    "                    winner.append(env.players[i].stack)\n",
    "            break\n",
    "    print('Episode {}\\tAverage Score: {:.2f} \\tFinished in {} timesteps \\tStack {}\\n '\n",
    "          .format(episode, total_reward, t+1, winner[episode]), end=\"\")\n",
    "print(\"\\n\\n % partides guanyades: \",100 - winner.count(0))\n",
    "print(\"\\n\\n mitja de recompenses: \",sum(rewards)/len(rewards))"
   ]
  },
  {
   "cell_type": "code",
   "execution_count": null,
   "metadata": {},
   "outputs": [],
   "source": []
  }
 ],
 "metadata": {
  "kernelspec": {
   "display_name": "Python 3",
   "language": "python",
   "name": "python3"
  },
  "language_info": {
   "codemirror_mode": {
    "name": "ipython",
    "version": 3
   },
   "file_extension": ".py",
   "mimetype": "text/x-python",
   "name": "python",
   "nbconvert_exporter": "python",
   "pygments_lexer": "ipython3",
   "version": "3.7.4"
  }
 },
 "nbformat": 4,
 "nbformat_minor": 2
}
