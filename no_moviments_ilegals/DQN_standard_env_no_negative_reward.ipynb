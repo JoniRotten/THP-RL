{
 "cells": [
  {
   "cell_type": "code",
   "execution_count": 1,
   "metadata": {},
   "outputs": [],
   "source": [
    "import gym\n",
    "import matplotlib.pyplot as plt\n",
    "import sys\n",
    "import numpy\n",
    "import logging\n",
    "sys.path.append('/home/maradona/neuron_poker/neuron_poker-master')\n",
    "sys.path.append('/home/maradona/neuron_poker/neuron_poker-master/tools')\n",
    "import numpy as np\n",
    "import pandas as pd\n",
    "import torch\n",
    "import time\n",
    "from collections import namedtuple, deque\n",
    "from copy import deepcopy, copy\n",
    "import random"
   ]
  },
  {
   "cell_type": "code",
   "execution_count": 2,
   "metadata": {},
   "outputs": [],
   "source": [
    "#from gym_env.env import HoldemTable, Action, Stage, PlayerCycle, CommunityData, PlayerShell\n",
    "from gym_env.env import HoldemTable, Action\n",
    "from agents.agent_random import Player as RandomPlayer\n",
    "from agents.agent_consider_equity import Player as EquityPlayer\n",
    "from agents.agent_autoplay_random import Player as Random_autoplay_Player\n",
    "from tools.helper import get_config\n",
    "from tools.helper import init_logger\n",
    "from tools.helper import flatten"
   ]
  },
  {
   "cell_type": "code",
   "execution_count": 3,
   "metadata": {},
   "outputs": [],
   "source": [
    "#llença el logging, tant per pantalla com als log files\n",
    "\n",
    "def logging_funct():\n",
    "\n",
    "    print(\"Using default log file\")\n",
    "    logfile = 'default'\n",
    "    model_name = 'test'\n",
    "    screenloglevel = logging.INFO\n",
    "    _ = get_config()\n",
    "    init_logger(screenlevel=screenloglevel, filename=logfile)\n",
    "    print(f\"Screenloglevel: {screenloglevel}\")\n",
    "    log = logging.getLogger(\"\")\n",
    "    log.info(\"Initializing program\")"
   ]
  },
  {
   "cell_type": "code",
   "execution_count": 4,
   "metadata": {},
   "outputs": [],
   "source": [
    "#logging_funct()"
   ]
  },
  {
   "cell_type": "code",
   "execution_count": 5,
   "metadata": {},
   "outputs": [],
   "source": [
    "def _create_env():\n",
    "    \"\"\"Create an environment\"\"\"\n",
    "    env = HoldemTable()\n",
    "    player = RandomPlayer(name='DQN_0')\n",
    "    env.add_player(player)\n",
    "    player = Random_autoplay_Player(name='RANDOM_1')\n",
    "    env.add_player(player)\n",
    "    #player = Random_autoplay_Player(name='RANDOM_2')\n",
    "    #env.add_player(player)\n",
    "    #player = EquityPlayer(name='EQUITY_3', min_call_equity=.2, min_bet_equity=-.3)\n",
    "    #env.add_player(player)\n",
    "    return env"
   ]
  },
  {
   "cell_type": "code",
   "execution_count": 6,
   "metadata": {},
   "outputs": [],
   "source": [
    "env = _create_env()"
   ]
  },
  {
   "cell_type": "code",
   "execution_count": 7,
   "metadata": {},
   "outputs": [],
   "source": [
    "state0 = env.reset()   ##Cal inicialitzar-ho per carregar env.observation_space[0] a la xarxa neuronal"
   ]
  },
  {
   "cell_type": "code",
   "execution_count": 8,
   "metadata": {},
   "outputs": [],
   "source": [
    "class experienceReplayBuffer:\n",
    "\n",
    "    def __init__(self, memory_size=50000, burn_in=10000):\n",
    "        self.memory_size = memory_size\n",
    "        self.burn_in = burn_in\n",
    "        self.buffer = namedtuple('Buffer', \n",
    "            field_names=['state', 'action', 'reward', 'done', 'next_state'])\n",
    "        self.replay_memory = deque(maxlen=memory_size)\n",
    "\n",
    "    def sample_batch(self, batch_size=32):\n",
    "        samples = np.random.choice(len(self.replay_memory), batch_size, replace=False)\n",
    "        # Use asterisk operator to unpack deque \n",
    "        batch = zip(*[self.replay_memory[i] for i in samples])\n",
    "        return batch\n",
    "\n",
    "    def append(self, state, action, reward, done, next_state):\n",
    "        self.replay_memory.append(\n",
    "            self.buffer(state, action, reward, done, next_state))\n",
    "\n",
    "    def burn_in_capacity(self):\n",
    "        return len(self.replay_memory) / self.burn_in"
   ]
  },
  {
   "cell_type": "code",
   "execution_count": 9,
   "metadata": {},
   "outputs": [],
   "source": [
    "class NeuralNet(torch.nn.Module):  \n",
    "\n",
    "    def __init__(self, env, learning_rate=1e-3):\n",
    "        \n",
    "        \"\"\"\n",
    "        Params\n",
    "        ======\n",
    "        n_inputs: tamaño del espacio de estadps\n",
    "        n_outputs: tamaño del espacio de acciones\n",
    "        actions: array de acciones posibles\n",
    "        \"\"\"\n",
    "        \n",
    "        ######################################\n",
    "        ##Initialitzar paràmetres\n",
    "        super(NeuralNet, self).__init__()\n",
    "        self.n_inputs = env.observation_space[0]\n",
    "        self.n_outputs = env.action_space.n\n",
    "        self.actions = np.arange(env.action_space.n)\n",
    "        self.learning_rate = learning_rate\n",
    "        \n",
    "       \n",
    "    \n",
    "    \n",
    "        #######################################\n",
    "        ##Neural network\n",
    "        self.model = torch.nn.Sequential(\n",
    "            torch.nn.Linear(self.n_inputs, 512, bias=True),\n",
    "            torch.nn.ReLU(),\n",
    "            torch.nn.Linear(512, 256, bias=True),\n",
    "            torch.nn.ReLU(),\n",
    "            torch.nn.Linear(256, 128, bias=True),\n",
    "            torch.nn.ReLU(),\n",
    "            torch.nn.Linear(128, self.n_outputs, bias=True))\n",
    "        \n",
    "        \n",
    "        \n",
    "        \n",
    "        #######################################\n",
    "        ##Inicialitzar optimitzador\n",
    "        self.optimizer = torch.optim.Adam(self.parameters(), lr=self.learning_rate)\n",
    "          \n",
    "\n",
    "            \n",
    "            \n",
    "\n",
    "    ### e-greedy method\n",
    "    def get_action(self, state, epsilon=0.05):\n",
    "        if np.random.random() < epsilon:\n",
    "            action = random.choice(self.actions)\n",
    "        else:\n",
    "            qvals = self.get_qvals(state)  # acció del càlcul de Q per a aquesta acció\n",
    "            no_legals = [x for x in np.arange(env.action_space.n) if x not in [x.value for x in env.legal_moves]]\n",
    "            for i in no_legals:\n",
    "                qvals[i] = float('-inf')   #posem a -inf tots els qvals que corresponen a moviments il-legals\n",
    "            action= torch.max(qvals, dim=-1)[1].item()\n",
    "        return action\n",
    "    \n",
    "    \n",
    "    def get_qvals(self, state):\n",
    "        if type(state) is tuple:\n",
    "            state = np.array([np.ravel(s) for s in state])\n",
    "        state_t = torch.FloatTensor(state)\n",
    "        return self.model(state_t)"
   ]
  },
  {
   "cell_type": "code",
   "execution_count": 10,
   "metadata": {},
   "outputs": [],
   "source": [
    "class DQNAgent:\n",
    "    \n",
    "    ###################################################\n",
    "    ###### Declarar variables        ##################\n",
    "    def __init__(self, reward_threshold, env, main_network, buffer, epsilon=0.1, eps_decay=0.99, batch_size=32): \n",
    "        self.env = env\n",
    "        self.main_network = main_network\n",
    "        self.target_network = deepcopy(main_network)\n",
    "        self.buffer = buffer\n",
    "        self.epsilon = epsilon\n",
    "        self.eps_decay = eps_decay\n",
    "        self.batch_size = batch_size\n",
    "        self.nblock = 100 #bloc dels últims X episodis dels que es calcularà mitja de recompenses\n",
    "        self.reward_threshold = reward_threshold\n",
    "        self.initialize()\n",
    "    \n",
    "    \n",
    "    ###############################################################\n",
    "    ##### Inicialitzar variables extra que es necessitin###########\n",
    "    def initialize(self):\n",
    "        self.update_loss = []\n",
    "        self.training_rewards = []\n",
    "        self.mean_training_rewards = []\n",
    "        self.sync_eps = []\n",
    "        self.state0 = env.reset()\n",
    "        self.total_reward = 0\n",
    "        self.step_count = 0\n",
    "        self.last_position = []\n",
    "        self.epsilons = []\n",
    "        self.training_loss = []\n",
    "        self.ilegales = []\n",
    "               \n",
    "        \n",
    "        \n",
    "        \n",
    "    #################################################################################\n",
    "    ###### Prendre nova acció ###############################################\n",
    "    def take_step(self, eps, mode='train'):\n",
    "        if mode == 'explore':\n",
    "            action = random.choice(self.main_network.actions)\n",
    "        else:\n",
    "            action = self.main_network.get_action(self.state0, eps)\n",
    "            self.step_count += 1\n",
    "            \n",
    "        #prendre 'step' i obtenir nou estat i recompensa. Guardar experiència al buffer\n",
    "        new_state, reward, done, _ = self.env.step(action)\n",
    "        self.buffer.append(self.state0, action, reward, done, new_state)\n",
    "        self.state0 = new_state.copy()\n",
    "               \n",
    "        if done:\n",
    "            if mode == 'train':\n",
    "                self.last_position.append(new_state[0])\n",
    "            self.state0 = env.reset()\n",
    "        return new_state, reward, done, _ \n",
    "        \n",
    "        \n",
    "\n",
    "    \n",
    "        \n",
    "    ##ENTRENAMENT\n",
    "    def train(self, gamma=0.99, max_episodes=50000, \n",
    "              batch_size=32,\n",
    "              dnn_update_frequency=4,\n",
    "              dnn_sync_frequency=2000):\n",
    "        self.gamma = gamma\n",
    "        # Omplim el buffer amb N experiències aleatòries ()\n",
    "        print(\"Filling replay buffer...\")\n",
    "        while self.buffer.burn_in_capacity() < 1:\n",
    "            self.take_step(self.epsilon, mode='explore')\n",
    "            \n",
    "            \n",
    "        episode = 0\n",
    "        training = True\n",
    "        print(\"Training...\")\n",
    "        while training:\n",
    "            self.state0 = self.env.reset()\n",
    "            self.total_reward = 0\n",
    "            gamedone = False\n",
    "            env.ilegal = 0\n",
    "            while gamedone == False:\n",
    "                #Agents autoplay de l'entorn\n",
    "                if env._agent_is_autoplay(): #desencadena tot el joc autoplay\n",
    "                    action = env.current_player.agent_obj.action(env.legal_moves, env.observation, env.info)\n",
    "                    new_state, reward, gamedone, info = env.step(action)\n",
    "                    #if not gamedone:\n",
    "                    #reward = -reward\n",
    "                #Quan siguin més de 2 jugant he de finalitzaar partida si jo no jugo, o no pikllar recompensa\n",
    "                #Agent\n",
    "                else:\n",
    "                    new_state, reward, gamedone, info = self.take_step(self.epsilon, mode='train')\n",
    "                \n",
    "                self.total_reward += reward\n",
    "                \n",
    "                \n",
    "                #################################################################################\n",
    "                ##### Actualitzar la xarxa principal segons la freqüència establerta ############\n",
    "                if self.step_count % dnn_update_frequency == 0:\n",
    "                    self.update()\n",
    "                \n",
    "                \n",
    "                \n",
    "                    \n",
    "                ########################################################################################\n",
    "                ### Sincronitzar xarxa principal y xarxa objectiu segons la freqüència establerta#####\n",
    "\n",
    "                if self.step_count % dnn_sync_frequency == 0:\n",
    "                    self.target_network.load_state_dict(\n",
    "                        self.main_network.state_dict())\n",
    "                    self.sync_eps.append(episode)\n",
    "                \n",
    "                                \n",
    "                if gamedone:  \n",
    "                    episode += 1\n",
    "                    self.training_rewards.append(self.total_reward)\n",
    "                    self.training_loss.append(np.mean(self.update_loss))\n",
    "                    self.update_loss = []   \n",
    "                    self.ilegales.append(env.ilegal)\n",
    "                \n",
    "                    \n",
    "                    #######################################################################################\n",
    "                    ### Calcular la mitjana de recompensa dels últims X episodis, y almacenar#####\n",
    "                    \n",
    "                    mean_rewards = np.mean(self.training_rewards[-self.nblock:])\n",
    "                    self.mean_training_rewards.append(mean_rewards)                   \n",
    "\n",
    "                    print(\"\\rEpisode {:d} Reward {:d} Mean Rewards {:.2f} Epsilon {} Illegal movements {:d}\\t\\t\"\n",
    "                          .format(episode, self.total_reward, mean_rewards, self.epsilon, env.ilegal), end=\"\")\n",
    "                    \n",
    "                    #######################################################################################\n",
    "                    ### Comprobar que encara queden episodis, i/o parar si s'ha arribat al límit\n",
    "\n",
    "                    if episode >= max_episodes:\n",
    "                        training = False\n",
    "                        print('\\nEpisode limit reached.')\n",
    "                        break\n",
    "                        \n",
    "                    \n",
    "                    # Acaba el joc si la mitjana de recompenses ha arribat al llindar fixat per l'entorn     \n",
    "                    if mean_rewards >= self.reward_threshold:\n",
    "                        training = False\n",
    "                        print('\\nEnvironment solved in {} episodes!'.format(\n",
    "                            episode))\n",
    "                        break\n",
    "                    \n",
    "                    #################################################################################\n",
    "                    ###### Actualitzar epsilon segons la velocitat de decaïment fixada########\n",
    "\n",
    "                    self.epsilon = max(self.epsilon * self.eps_decay, 0.01)\n",
    "                    self.epsilons.append(self.epsilon)\n",
    "                                      \n",
    "   \n",
    "\n",
    "    ####################################          \n",
    "    #####Càlcul de la pèrdua####\n",
    "    def calculate_loss(self, batch):\n",
    "        # Separem les variables de l'experiència i les convertim a tensors\n",
    "        states, actions, rewards, dones, next_states = [i for i in batch] \n",
    "        rewards_vals = torch.FloatTensor(rewards)\n",
    "        actions_vals = torch.LongTensor(np.array(actions)).reshape(-1,1)\n",
    "        dones_t = torch.ByteTensor(dones)\n",
    "        \n",
    "        # Obtenim els valors de Q de la xarxa principal\n",
    "        qvals = torch.gather(self.main_network.get_qvals(states), 1, actions_vals)\n",
    "        # Obtenim els valors de Q de la xarxa objectiu. El paràmetre detach() \n",
    "        #evita que aquests valors actualitzin la xarxa objectiu\n",
    "        qvals_next = torch.max(self.target_network.get_qvals(next_states),\n",
    "                               dim=-1)[0].detach()\n",
    "        qvals_next[dones_t] = 0 # 0 en estados terminales\n",
    "        \n",
    "        #################################################################################\n",
    "        ### Calcular equació de Bellman\n",
    "        expected_qvals = self.gamma * qvals_next + rewards_vals\n",
    "        \n",
    "        #################################################################################\n",
    "        ### Càlcul de la pèrdua\n",
    "        #loss = torch.nn.MSELoss()(qvals, expected_qvals.reshape(-1,1))\n",
    "        loss = torch.nn.MSELoss()(qvals, expected_qvals)\n",
    "        return loss\n",
    "\n",
    "    \n",
    "    def update(self):\n",
    "        self.main_network.optimizer.zero_grad()  # eliminem qualsevol gradient passat\n",
    "        batch = self.buffer.sample_batch(batch_size=self.batch_size) # seleccionem un conjunt del buffer\n",
    "        loss = self.calculate_loss(batch) # calculem la pèrdua\n",
    "        loss.backward() # fem la diferència per obtenir els gradients\n",
    "        self.main_network.optimizer.step() # apliquem els gradients a la xarxa neuronal\n",
    "        # Guardem els valors de pèrdua\n",
    "        self.update_loss.append(loss.detach().numpy())"
   ]
  },
  {
   "cell_type": "code",
   "execution_count": 11,
   "metadata": {},
   "outputs": [],
   "source": [
    "lr = 0.001\n",
    "BATCH_SIZE = 32\n",
    "MAX_EPISODES = 9000\n",
    "BURN_IN = 1000\n",
    "DNN_UPD = 3\n",
    "DNN_SYNC = 1000\n",
    "MEMORY_SIZE = 100000\n",
    "EPSILON = 1           \n",
    "EPSILON_DECAY = 0.99   \n",
    "GAMMA = 0.99   \n",
    "REWARD_THRESHOLD = 1000000"
   ]
  },
  {
   "cell_type": "code",
   "execution_count": 12,
   "metadata": {},
   "outputs": [],
   "source": [
    "buffer = experienceReplayBuffer(memory_size=MEMORY_SIZE, burn_in=BURN_IN)"
   ]
  },
  {
   "cell_type": "code",
   "execution_count": 13,
   "metadata": {},
   "outputs": [],
   "source": [
    "dqn = NeuralNet(env, learning_rate=lr)"
   ]
  },
  {
   "cell_type": "code",
   "execution_count": 14,
   "metadata": {},
   "outputs": [],
   "source": [
    "agentDQN = DQNAgent(REWARD_THRESHOLD, env, dqn, buffer, EPSILON, EPSILON_DECAY, BATCH_SIZE)"
   ]
  },
  {
   "cell_type": "code",
   "execution_count": 15,
   "metadata": {},
   "outputs": [],
   "source": [
    "start = time.time()"
   ]
  },
  {
   "cell_type": "code",
   "execution_count": 16,
   "metadata": {},
   "outputs": [
    {
     "name": "stdout",
     "output_type": "stream",
     "text": [
      "Filling replay buffer...\n",
      "Training...\n"
     ]
    },
    {
     "name": "stderr",
     "output_type": "stream",
     "text": [
      "/home/maradona/anaconda3/lib/python3.7/site-packages/ipykernel_launcher.py:168: UserWarning: masked_fill_ received a mask with dtype torch.uint8, this behavior is now deprecated,please use a mask with dtype torch.bool instead. (Triggered internally at  /opt/conda/conda-bld/pytorch_1634272126608/work/aten/src/ATen/native/TensorAdvancedIndexing.cpp:1273.)\n",
      "/home/maradona/anaconda3/lib/python3.7/site-packages/torch/nn/modules/loss.py:520: UserWarning: Using a target size (torch.Size([32])) that is different to the input size (torch.Size([32, 1])). This will likely lead to incorrect results due to broadcasting. Please ensure they have the same size.\n",
      "  return F.mse_loss(input, target, reduction=self.reduction)\n"
     ]
    },
    {
     "name": "stdout",
     "output_type": "stream",
     "text": [
      "Episode 58 Reward 173 Mean Rewards 24.43 Epsilon 0.5639051904523876 Illegal movements 17\t\t\t"
     ]
    },
    {
     "name": "stderr",
     "output_type": "stream",
     "text": [
      "/home/maradona/anaconda3/lib/python3.7/site-packages/numpy/core/fromnumeric.py:3441: RuntimeWarning: Mean of empty slice.\n",
      "  out=out, **kwargs)\n",
      "/home/maradona/anaconda3/lib/python3.7/site-packages/numpy/core/_methods.py:189: RuntimeWarning: invalid value encountered in double_scalars\n",
      "  ret = ret.dtype.type(ret / rcount)\n"
     ]
    },
    {
     "name": "stdout",
     "output_type": "stream",
     "text": [
      "Episode 9000 Reward 200 Mean Rewards 49.48 Epsilon 0.01 Illegal movements 0\t\t\t\tmovements 0\t\t\t\t\n",
      "Episode limit reached.\n"
     ]
    }
   ],
   "source": [
    "agentDQN.train(gamma=GAMMA, max_episodes=MAX_EPISODES, \n",
    "               batch_size=BATCH_SIZE, dnn_update_frequency=DNN_UPD, dnn_sync_frequency=DNN_SYNC)"
   ]
  },
  {
   "cell_type": "code",
   "execution_count": 17,
   "metadata": {},
   "outputs": [],
   "source": [
    "file = \"/home/maradona/Desktop/data_science/TFM/3/DQNAgent_Trained_Model_03.pth\"\n",
    "torch.save(agentDQN.main_network.state_dict(), file)"
   ]
  },
  {
   "cell_type": "code",
   "execution_count": 18,
   "metadata": {},
   "outputs": [
    {
     "name": "stdout",
     "output_type": "stream",
     "text": [
      "13.60237362921238\n"
     ]
    }
   ],
   "source": [
    "end = time.time()\n",
    "print((end - start) / 3600)"
   ]
  },
  {
   "cell_type": "code",
   "execution_count": 19,
   "metadata": {},
   "outputs": [
    {
     "data": {
      "image/png": "[encoded data removed]",
      "text/plain": [
       "<Figure size 576x288 with 1 Axes>"
      ]
     },
     "metadata": {
      "needs_background": "light"
     },
     "output_type": "display_data"
    }
   ],
   "source": [
    "plt.figure(figsize=(8,4))\n",
    "plt.plot(agentDQN.training_rewards, label='training rewards')\n",
    "plt.plot(agentDQN.mean_training_rewards, label='mean training rewards')\n",
    "#plt.axhline(env.spec.reward_threshold, color='r', label=\"reward threshold\")\n",
    "plt.xlabel('Episodes')\n",
    "plt.ylabel('Rewards')\n",
    "plt.legend(loc=\"upper left\")\n",
    "plt.show()"
   ]
  },
  {
   "cell_type": "code",
   "execution_count": 20,
   "metadata": {},
   "outputs": [
    {
     "data": {
      "image/png": "[encoded data removed]",
      "text/plain": [
       "<Figure size 576x288 with 1 Axes>"
      ]
     },
     "metadata": {
      "needs_background": "light"
     },
     "output_type": "display_data"
    }
   ],
   "source": [
    "plt.figure(figsize=(8,4))\n",
    "plt.plot(agentDQN.training_loss, label='Loss')\n",
    "plt.xlabel('Episodes')\n",
    "plt.ylabel('Loss')\n",
    "plt.legend(loc=\"upper left\")\n",
    "plt.show()"
   ]
  },
  {
   "cell_type": "code",
   "execution_count": 21,
   "metadata": {},
   "outputs": [
    {
     "data": {
      "image/png": "[encoded data removed]",
      "text/plain": [
       "<Figure size 576x288 with 1 Axes>"
      ]
     },
     "metadata": {
      "needs_background": "light"
     },
     "output_type": "display_data"
    }
   ],
   "source": [
    "plt.figure(figsize=(8,4))\n",
    "plt.plot(agentDQN.epsilons, label='epsilon')\n",
    "plt.xlabel('Episodes')\n",
    "plt.ylabel('epsilon')\n",
    "plt.legend(loc=\"upper left\")\n",
    "plt.show()"
   ]
  },
  {
   "cell_type": "code",
   "execution_count": 22,
   "metadata": {},
   "outputs": [
    {
     "data": {
      "image/png": "[encoded data removed]",
      "text/plain": [
       "<Figure size 576x288 with 1 Axes>"
      ]
     },
     "metadata": {
      "needs_background": "light"
     },
     "output_type": "display_data"
    }
   ],
   "source": [
    "one = agentDQN.epsilons.index(0.01)\n",
    "plt.figure(figsize=(8,4))\n",
    "plt.plot(agentDQN.ilegales, label='Moviments Il-legals')\n",
    "plt.xlabel('Episodes')\n",
    "plt.ylabel('Moviments Il-legals')\n",
    "plt.legend(loc=\"upper left\")\n",
    "plt.axvline(x = one, color = 'g') \n",
    "plt.show()"
   ]
  },
  {
   "cell_type": "code",
   "execution_count": 23,
   "metadata": {},
   "outputs": [
    {
     "data": {
      "text/plain": [
       "<All keys matched successfully>"
      ]
     },
     "execution_count": 23,
     "metadata": {},
     "output_type": "execute_result"
    }
   ],
   "source": [
    "agentDQN.main_network.load_state_dict(torch.load\n",
    "                                      ('/home/maradona/Desktop/data_science/TFM/3/DQNAgent_Trained_Model_03.pth'))"
   ]
  },
  {
   "cell_type": "code",
   "execution_count": 24,
   "metadata": {},
   "outputs": [
    {
     "name": "stdout",
     "output_type": "stream",
     "text": [
      "Episode 0\tReward: 202.00 \tFinished in 7 timesteps\tIlegal movements 0\tStack 200\t Winner 0\n",
      "Episode 1\tReward: 204.00 \tFinished in 13 timesteps\tIlegal movements 0\tStack 200\t Winner 0\n",
      "Episode 2\tReward: 218.00 \tFinished in 7 timesteps\tIlegal movements 0\tStack 200\t Winner 0\n",
      "Episode 3\tReward: 200.00 \tFinished in 7 timesteps\tIlegal movements 0\tStack 200\t Winner 0\n",
      "Episode 4\tReward: 204.00 \tFinished in 13 timesteps\tIlegal movements 0\tStack 200\t Winner 0\n",
      "Episode 5\tReward: -200.00 \tFinished in 5 timesteps\tIlegal movements 0\tStack 0\t Winner 1\n",
      "Episode 6\tReward: -212.00 \tFinished in 7 timesteps\tIlegal movements 0\tStack 0\t Winner 1\n",
      "Episode 7\tReward: -198.00 \tFinished in 7 timesteps\tIlegal movements 0\tStack 0\t Winner 1\n",
      "Episode 8\tReward: 179.00 \tFinished in 24 timesteps\tIlegal movements 1\tStack 200\t Winner 0\n",
      "Episode 9\tReward: 90.00 \tFinished in 30 timesteps\tIlegal movements 0\tStack 200\t Winner 0\n",
      "Episode 10\tReward: 185.00 \tFinished in 15 timesteps\tIlegal movements 0\tStack 200\t Winner 0\n",
      "Episode 11\tReward: -240.00 \tFinished in 16 timesteps\tIlegal movements 1\tStack 0\t Winner 1\n",
      "Episode 12\tReward: 222.00 \tFinished in 31 timesteps\tIlegal movements 0\tStack 200\t Winner 0\n",
      "Episode 13\tReward: -199.00 \tFinished in 7 timesteps\tIlegal movements 0\tStack 0\t Winner 1\n",
      "Episode 14\tReward: -200.00 \tFinished in 5 timesteps\tIlegal movements 0\tStack 0\t Winner 1\n",
      "Episode 15\tReward: 205.00 \tFinished in 11 timesteps\tIlegal movements 0\tStack 200\t Winner 0\n",
      "Episode 16\tReward: -192.00 \tFinished in 12 timesteps\tIlegal movements 1\tStack 0\t Winner 1\n",
      "Episode 17\tReward: 149.00 \tFinished in 49 timesteps\tIlegal movements 0\tStack 200\t Winner 0\n",
      "Episode 18\tReward: 200.00 \tFinished in 5 timesteps\tIlegal movements 0\tStack 200\t Winner 0\n",
      "Episode 19\tReward: 102.00 \tFinished in 4 timesteps\tIlegal movements 0\tStack 200\t Winner 0\n",
      "Episode 20\tReward: 240.00 \tFinished in 23 timesteps\tIlegal movements 0\tStack 200\t Winner 0\n",
      "Episode 21\tReward: -211.00 \tFinished in 5 timesteps\tIlegal movements 0\tStack 0\t Winner 1\n",
      "Episode 22\tReward: 288.00 \tFinished in 7 timesteps\tIlegal movements 0\tStack 200\t Winner 0\n",
      "Episode 23\tReward: 274.00 \tFinished in 24 timesteps\tIlegal movements 1\tStack 200\t Winner 0\n",
      "Episode 24\tReward: 134.00 \tFinished in 19 timesteps\tIlegal movements 0\tStack 200\t Winner 0\n",
      "Episode 25\tReward: 94.00 \tFinished in 16 timesteps\tIlegal movements 0\tStack 200\t Winner 0\n",
      "Episode 26\tReward: 103.00 \tFinished in 17 timesteps\tIlegal movements 0\tStack 200\t Winner 0\n",
      "Episode 27\tReward: -200.00 \tFinished in 5 timesteps\tIlegal movements 0\tStack 0\t Winner 1\n",
      "Episode 28\tReward: -219.00 \tFinished in 25 timesteps\tIlegal movements 0\tStack 0\t Winner 1\n",
      "Episode 29\tReward: 202.00 \tFinished in 11 timesteps\tIlegal movements 0\tStack 200\t Winner 0\n",
      "Episode 30\tReward: -198.00 \tFinished in 7 timesteps\tIlegal movements 0\tStack 0\t Winner 1\n",
      "Episode 31\tReward: 223.00 \tFinished in 15 timesteps\tIlegal movements 0\tStack 200\t Winner 0\n",
      "Episode 32\tReward: 209.00 \tFinished in 9 timesteps\tIlegal movements 0\tStack 200\t Winner 0\n",
      "Episode 33\tReward: 202.00 \tFinished in 9 timesteps\tIlegal movements 0\tStack 200\t Winner 0\n",
      "Episode 34\tReward: 218.00 \tFinished in 7 timesteps\tIlegal movements 0\tStack 200\t Winner 0\n",
      "Episode 35\tReward: 200.00 \tFinished in 5 timesteps\tIlegal movements 0\tStack 200\t Winner 0\n",
      "Episode 36\tReward: 102.00 \tFinished in 4 timesteps\tIlegal movements 0\tStack 200\t Winner 0\n",
      "Episode 37\tReward: -231.00 \tFinished in 29 timesteps\tIlegal movements 0\tStack 0\t Winner 1\n",
      "Episode 38\tReward: -189.00 \tFinished in 39 timesteps\tIlegal movements 0\tStack 0\t Winner 1\n",
      "Episode 39\tReward: -198.00 \tFinished in 11 timesteps\tIlegal movements 0\tStack 0\t Winner 1\n",
      "Episode 40\tReward: -200.00 \tFinished in 5 timesteps\tIlegal movements 0\tStack 0\t Winner 1\n",
      "Episode 41\tReward: -200.00 \tFinished in 5 timesteps\tIlegal movements 0\tStack 0\t Winner 1\n",
      "Episode 42\tReward: -198.00 \tFinished in 11 timesteps\tIlegal movements 0\tStack 0\t Winner 1\n",
      "Episode 43\tReward: -199.00 \tFinished in 10 timesteps\tIlegal movements 1\tStack 0\t Winner 1\n",
      "Episode 44\tReward: 292.00 \tFinished in 13 timesteps\tIlegal movements 0\tStack 200\t Winner 0\n",
      "Episode 45\tReward: 203.00 \tFinished in 5 timesteps\tIlegal movements 0\tStack 200\t Winner 0\n",
      "Episode 46\tReward: 183.00 \tFinished in 12 timesteps\tIlegal movements 1\tStack 200\t Winner 0\n",
      "Episode 47\tReward: -182.00 \tFinished in 9 timesteps\tIlegal movements 0\tStack 0\t Winner 1\n",
      "Episode 48\tReward: 98.00 \tFinished in 8 timesteps\tIlegal movements 0\tStack 200\t Winner 0\n",
      "Episode 49\tReward: 102.00 \tFinished in 4 timesteps\tIlegal movements 0\tStack 200\t Winner 0\n",
      "Episode 50\tReward: 102.00 \tFinished in 4 timesteps\tIlegal movements 0\tStack 200\t Winner 0\n",
      "Episode 51\tReward: 200.00 \tFinished in 5 timesteps\tIlegal movements 0\tStack 200\t Winner 0\n",
      "Episode 52\tReward: 219.00 \tFinished in 5 timesteps\tIlegal movements 0\tStack 200\t Winner 0\n",
      "Episode 53\tReward: 200.00 \tFinished in 5 timesteps\tIlegal movements 0\tStack 200\t Winner 0\n",
      "Episode 54\tReward: 120.00 \tFinished in 13 timesteps\tIlegal movements 0\tStack 200\t Winner 0\n",
      "Episode 55\tReward: -199.00 \tFinished in 12 timesteps\tIlegal movements 1\tStack 0\t Winner 1\n",
      "Episode 56\tReward: 202.00 \tFinished in 13 timesteps\tIlegal movements 0\tStack 200\t Winner 0\n",
      "Episode 57\tReward: 264.00 \tFinished in 25 timesteps\tIlegal movements 0\tStack 200\t Winner 0\n",
      "Episode 58\tReward: -294.00 \tFinished in 7 timesteps\tIlegal movements 0\tStack 0\t Winner 1\n",
      "Episode 59\tReward: 160.00 \tFinished in 19 timesteps\tIlegal movements 0\tStack 200\t Winner 0\n",
      "Episode 60\tReward: -198.00 \tFinished in 7 timesteps\tIlegal movements 0\tStack 0\t Winner 1\n",
      "Episode 61\tReward: 194.00 \tFinished in 9 timesteps\tIlegal movements 0\tStack 200\t Winner 0\n",
      "Episode 62\tReward: -197.00 \tFinished in 7 timesteps\tIlegal movements 0\tStack 0\t Winner 1\n",
      "Episode 63\tReward: 201.00 \tFinished in 3 timesteps\tIlegal movements 0\tStack 200\t Winner 0\n",
      "Episode 64\tReward: 201.00 \tFinished in 3 timesteps\tIlegal movements 0\tStack 200\t Winner 0\n",
      "Episode 65\tReward: 200.00 \tFinished in 5 timesteps\tIlegal movements 0\tStack 200\t Winner 0\n",
      "Episode 66\tReward: 181.00 \tFinished in 21 timesteps\tIlegal movements 1\tStack 200\t Winner 0\n",
      "Episode 67\tReward: 188.00 \tFinished in 7 timesteps\tIlegal movements 0\tStack 200\t Winner 0\n",
      "Episode 68\tReward: -190.00 \tFinished in 13 timesteps\tIlegal movements 0\tStack 0\t Winner 1\n",
      "Episode 69\tReward: 202.00 \tFinished in 7 timesteps\tIlegal movements 0\tStack 200\t Winner 0\n",
      "Episode 70\tReward: -206.00 \tFinished in 9 timesteps\tIlegal movements 0\tStack 0\t Winner 1\n",
      "Episode 71\tReward: 120.00 \tFinished in 19 timesteps\tIlegal movements 0\tStack 200\t Winner 0\n",
      "Episode 72\tReward: 191.00 \tFinished in 13 timesteps\tIlegal movements 0\tStack 200\t Winner 0\n",
      "Episode 73\tReward: -296.00 \tFinished in 9 timesteps\tIlegal movements 0\tStack 0\t Winner 1\n",
      "Episode 74\tReward: -200.00 \tFinished in 5 timesteps\tIlegal movements 0\tStack 0\t Winner 1\n",
      "Episode 75\tReward: -198.00 \tFinished in 7 timesteps\tIlegal movements 0\tStack 0\t Winner 1\n",
      "Episode 76\tReward: -188.00 \tFinished in 9 timesteps\tIlegal movements 0\tStack 0\t Winner 1\n",
      "Episode 77\tReward: -200.00 \tFinished in 5 timesteps\tIlegal movements 0\tStack 0\t Winner 1\n",
      "Episode 78\tReward: 203.00 \tFinished in 5 timesteps\tIlegal movements 0\tStack 200\t Winner 0\n",
      "Episode 79\tReward: 102.00 \tFinished in 4 timesteps\tIlegal movements 0\tStack 200\t Winner 0\n",
      "Episode 80\tReward: 201.00 \tFinished in 3 timesteps\tIlegal movements 0\tStack 200\t Winner 0\n",
      "Episode 81\tReward: 196.00 \tFinished in 13 timesteps\tIlegal movements 0\tStack 200\t Winner 0\n",
      "Episode 82\tReward: 200.00 \tFinished in 5 timesteps\tIlegal movements 0\tStack 200\t Winner 0\n",
      "Episode 83\tReward: 102.00 \tFinished in 4 timesteps\tIlegal movements 0\tStack 200\t Winner 0\n",
      "Episode 84\tReward: -158.00 \tFinished in 13 timesteps\tIlegal movements 0\tStack 0\t Winner 1\n",
      "Episode 85\tReward: -201.00 \tFinished in 13 timesteps\tIlegal movements 1\tStack 0\t Winner 1\n",
      "Episode 86\tReward: -217.00 \tFinished in 11 timesteps\tIlegal movements 0\tStack 0\t Winner 1\n",
      "Episode 87\tReward: -200.00 \tFinished in 5 timesteps\tIlegal movements 0\tStack 0\t Winner 1\n",
      "Episode 88\tReward: 222.00 \tFinished in 29 timesteps\tIlegal movements 0\tStack 200\t Winner 0\n",
      "Episode 89\tReward: 102.00 \tFinished in 4 timesteps\tIlegal movements 0\tStack 200\t Winner 0\n",
      "Episode 90\tReward: 188.00 \tFinished in 11 timesteps\tIlegal movements 0\tStack 200\t Winner 0\n",
      "Episode 91\tReward: -216.00 \tFinished in 11 timesteps\tIlegal movements 0\tStack 0\t Winner 1\n",
      "Episode 92\tReward: 207.00 \tFinished in 5 timesteps\tIlegal movements 0\tStack 200\t Winner 0\n",
      "Episode 93\tReward: -194.00 \tFinished in 17 timesteps\tIlegal movements 0\tStack 0\t Winner 1\n",
      "Episode 94\tReward: -199.00 \tFinished in 12 timesteps\tIlegal movements 1\tStack 0\t Winner 1\n",
      "Episode 95\tReward: 97.00 \tFinished in 9 timesteps\tIlegal movements 0\tStack 200\t Winner 0\n",
      "Episode 96\tReward: 184.00 \tFinished in 15 timesteps\tIlegal movements 0\tStack 200\t Winner 0\n",
      "Episode 97\tReward: -196.00 \tFinished in 19 timesteps\tIlegal movements 0\tStack 0\t Winner 1\n",
      "Episode 98\tReward: 102.00 \tFinished in 4 timesteps\tIlegal movements 0\tStack 200\t Winner 0\n",
      "Episode 99\tReward: -198.00 \tFinished in 9 timesteps\tIlegal movements 0\tStack 0\t Winner 1\n",
      "\n",
      "\n",
      " % partides guanyades:  61\n",
      "\n",
      "\n",
      " mitja de recompenses:  29.67\n",
      "\n",
      "\n",
      " mitja de $$$$$$$$$$$:  122.0\n"
     ]
    }
   ],
   "source": [
    "rewards = []\n",
    "winner = []\n",
    "stack = []\n",
    "ilegales = []\n",
    "for episode in range(100):\n",
    "    observation = env.reset()\n",
    "    total_reward = 0\n",
    "    t = 0\n",
    "    env.ilegal = 0\n",
    "    while True:\n",
    "        action = agentDQN.main_network.get_action(observation)\n",
    "        observation, reward, done, info = env.step(action)\n",
    "        total_reward += reward\n",
    "        t += 1\n",
    "        if done:\n",
    "            rewards.append(total_reward)\n",
    "            ilegales.append(env.ilegal)\n",
    "            winner.append(env.winner_ix)\n",
    "            for i in range(len(env.players)):\n",
    "                if env.players[i].name == 'DQN_0':\n",
    "                    stack.append(env.players[i].stack)\n",
    "            break\n",
    "    print('Episode {}\\tReward: {:.2f} \\tFinished in {} timesteps\\tIlegal movements {}\\tStack {}\\t Winner {}\\n'\n",
    "          .format(episode, total_reward, t+1, ilegales[episode], stack[episode], winner[episode]), end=\"\")\n",
    "print(\"\\n\\n % partides guanyades: \",winner.count(0))\n",
    "print(\"\\n\\n mitja de recompenses: \",sum(rewards)/len(rewards))\n",
    "print(\"\\n\\n mitja de $$$$$$$$$$$: \",sum(stack)/len(stack))"
   ]
  },
  {
   "cell_type": "code",
   "execution_count": null,
   "metadata": {},
   "outputs": [],
   "source": []
  }
 ],
 "metadata": {
  "kernelspec": {
   "display_name": "Python 3",
   "language": "python",
   "name": "python3"
  },
  "language_info": {
   "codemirror_mode": {
    "name": "ipython",
    "version": 3
   },
   "file_extension": ".py",
   "mimetype": "text/x-python",
   "name": "python",
   "nbconvert_exporter": "python",
   "pygments_lexer": "ipython3",
   "version": "3.7.4"
  }
 },
 "nbformat": 4,
 "nbformat_minor": 2
}
